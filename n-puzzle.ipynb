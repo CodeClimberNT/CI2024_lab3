{
 "cells": [
  {
   "cell_type": "markdown",
   "metadata": {},
   "source": [
    "# Lab 3"
   ]
  },
  {
   "cell_type": "markdown",
   "metadata": {
    "vscode": {
     "languageId": "plaintext"
    }
   },
   "source": [
    "Copyright **`(c)`** 2024 Giovanni Squillero `<giovanni.squillero@polito.it>`  \n",
    "[`https://github.com/squillero/computational-intelligence`](https://github.com/squillero/computational-intelligence)  \n",
    "Free under certain conditions — see the [`license`](https://github.com/squillero/computational-intelligence/blob/master/LICENSE.md) for details.  "
   ]
  },
  {
   "cell_type": "markdown",
   "metadata": {},
   "source": [
    "Problem description with live demo: [`https://tristanpenman.com/demos/n-puzzle/`](https://tristanpenman.com/demos/n-puzzle/)"
   ]
  },
  {
   "cell_type": "markdown",
   "metadata": {},
   "source": [
    "## Importing library"
   ]
  },
  {
   "cell_type": "code",
   "execution_count": 59,
   "metadata": {},
   "outputs": [],
   "source": [
    "from collections import deque\n",
    "import sys\n",
    "import os\n",
    "\n",
    "from typing import Any, Deque\n",
    "\n",
    "import numpy as np\n",
    "from numpy.typing import NDArray\n",
    "\n",
    "import matplotlib.pyplot as plt\n",
    "import matplotlib.animation as animation\n",
    "from matplotlib import artist\n",
    "import imageio.v2 as imageio"
   ]
  },
  {
   "cell_type": "code",
   "execution_count": 60,
   "metadata": {},
   "outputs": [],
   "source": [
    "# Increase recursion limit for DFS and IDS\n",
    "sys.setrecursionlimit(10000)\n",
    "\n",
    "# Default initial and goal states\n",
    "DEFAULT_INITIAL_STATE: NDArray = np.array(\n",
    "    [\n",
    "        [1, 2, 3],\n",
    "        [4, 5, 6],\n",
    "        [0, 7, 8],\n",
    "    ]\n",
    ")\n",
    "\n",
    "DEFAULT_GOAL_STATE: NDArray = np.array(\n",
    "    [\n",
    "        [1, 2, 3],\n",
    "        [4, 5, 6],\n",
    "        [7, 8, 0],\n",
    "    ]\n",
    ")"
   ]
  },
  {
   "cell_type": "code",
   "execution_count": 61,
   "metadata": {},
   "outputs": [],
   "source": [
    "def get_neighbors(state: NDArray[np.int32]) -> NDArray[np.int32]:\n",
    "    neighbors: list[NDArray[np.int32]] = []\n",
    "    x, y = np.argwhere(state == 0)[0]\n",
    "    moves: list[tuple[int, int]] = [(-1, 0), (1, 0), (0, -1), (0, 1)]  # Up, Down, Left, Right\n",
    "    for dx, dy in moves:\n",
    "        nx, ny = x + dx, y + dy\n",
    "        if 0 <= nx < state.shape[0] and 0 <= ny < state.shape[1]:\n",
    "            new_state: NDArray[np.int32] = state.copy()\n",
    "            new_state[x, y], new_state[nx, ny] = new_state[nx, ny], new_state[x, y]\n",
    "            neighbors.append(new_state)\n",
    "    return np.array(neighbors)\n",
    "\n",
    "\n",
    "def search_util(\n",
    "    current_state: NDArray[np.int32],\n",
    "    goal_state: NDArray[np.int32],\n",
    "    visited: set[bytes],\n",
    "    path: list[NDArray[np.int32]],\n",
    "    depth: int,\n",
    "    max_depth: int,\n",
    "):\n",
    "    if depth > max_depth:\n",
    "        return None\n",
    "    if np.array_equal(current_state, goal_state):\n",
    "        return path + [current_state]\n",
    "    visited.add(current_state.tobytes())\n",
    "    for neighbor in get_neighbors(current_state):\n",
    "        if neighbor not in visited:\n",
    "            result = search_util(neighbor, goal_state, visited, path + [current_state], depth + 1, max_depth)\n",
    "            if result is not None:\n",
    "                return result\n",
    "    return None"
   ]
  },
  {
   "cell_type": "markdown",
   "metadata": {},
   "source": [
    "## Solution Classes"
   ]
  },
  {
   "cell_type": "markdown",
   "metadata": {},
   "source": [
    "### Breadth-First Search"
   ]
  },
  {
   "cell_type": "code",
   "execution_count": 62,
   "metadata": {},
   "outputs": [],
   "source": [
    "class BFS:\n",
    "    def __init__(\n",
    "        self,\n",
    "        initial_state: NDArray[np.int32] = DEFAULT_INITIAL_STATE,\n",
    "        goal_state: NDArray[np.int32] = DEFAULT_GOAL_STATE,\n",
    "    ) -> None:\n",
    "        self.initial_state: NDArray[np.int32] = initial_state\n",
    "        self.goal_state: NDArray[np.int32] = goal_state\n",
    "        # The initial state is the first visited state\n",
    "        self.visited: list[NDArray[np.int32]] = [initial_state]\n",
    "        self.queue: Deque[tuple[NDArray, list]] = deque()\n",
    "\n",
    "    def solve(self) -> list | None:\n",
    "        self.queue.append((self.initial_state, []))\n",
    "\n",
    "        while self.queue:\n",
    "            current_state, path = self.queue.popleft()\n",
    "            if np.array_equal(current_state, self.goal_state):\n",
    "                print(f\"BFS: Number of steps = {len(path)}\")\n",
    "                return path + [current_state]\n",
    "            for neighbor in get_neighbors(current_state):\n",
    "                # If the neighbor has not been visited before\n",
    "                if not np.any([np.array_equal(neighbor, history) for history in self.visited]):\n",
    "                    self.visited.append(neighbor)\n",
    "                    self.queue.append((neighbor, path + [current_state]))\n",
    "        print(\"BFS: No solution found\")\n",
    "        return None"
   ]
  },
  {
   "cell_type": "markdown",
   "metadata": {},
   "source": [
    "### Depth First Search"
   ]
  },
  {
   "cell_type": "code",
   "execution_count": 63,
   "metadata": {},
   "outputs": [],
   "source": [
    "class DFS:\n",
    "    def __init__(self, initial_state=DEFAULT_INITIAL_STATE, goal_state=DEFAULT_GOAL_STATE) -> None:\n",
    "        self.initial_state = initial_state\n",
    "        self.goal_state = goal_state\n",
    "        self.visited = set()\n",
    "        self.path = []\n",
    "        self.depth = 0\n",
    "        self.max_depth = sys.getrecursionlimit()\n",
    "\n",
    "    def solve(self):\n",
    "        self.path = search_util(self.initial_state, self.goal_state, self.visited, [], self.depth, self.max_depth)\n",
    "        if self.path is not None:\n",
    "            print(f\"DFS: Number of steps = {len(self.path) - 1}\")\n",
    "            return self.path\n",
    "        else:\n",
    "            print(\"DFS: No solution found\")\n",
    "            return None"
   ]
  },
  {
   "cell_type": "markdown",
   "metadata": {},
   "source": [
    "## Iterative Deepening Search"
   ]
  },
  {
   "cell_type": "code",
   "execution_count": 64,
   "metadata": {},
   "outputs": [],
   "source": [
    "class IDS:\n",
    "    def __init__(self, initial_state=DEFAULT_INITIAL_STATE, goal_state=DEFAULT_GOAL_STATE):\n",
    "        self.initial_state = initial_state\n",
    "        self.goal_state = goal_state\n",
    "        self.visited = set()\n",
    "        self.path = []\n",
    "        self.max_depth = 0\n",
    "\n",
    "    def solve(self):\n",
    "        while True:\n",
    "            self.visited = set()\n",
    "            self.path = search_util(self.initial_state, self.goal_state, self.visited, [], 0, self.max_depth)\n",
    "            if self.path is not None:\n",
    "                print(f\"IDS: Number of steps = {len(self.path) - 1}\")\n",
    "                return self.path\n",
    "            self.max_depth += 1\n",
    "        print(\"IDS: No solution found\")\n",
    "        print(\"Anyway: How did you get here?\")\n",
    "        return None"
   ]
  },
  {
   "cell_type": "markdown",
   "metadata": {},
   "source": [
    "## Utility"
   ]
  },
  {
   "cell_type": "code",
   "execution_count": 67,
   "metadata": {},
   "outputs": [],
   "source": [
    "from typing import Collection, Sequence\n",
    "from matplotlib.artist import Artist\n",
    "from matplotlib.image import AxesImage\n",
    "\n",
    "\n",
    "def save_solution_video(path: list[NDArray[np.int32]]) -> None:\n",
    "    frames: Sequence[Collection[Artist]] = []\n",
    "    N: int = path[0].shape[0]\n",
    "    fig, ax = plt.subplots(figsize=(N, N))\n",
    "    ax.axis('off')\n",
    "    texts = [[ax.text(j, i, '', va='center', ha='center', fontsize=16, color='white') for j in range(N)] for i in range(N)]\n",
    "    for state in path:\n",
    "        img: AxesImage = ax.imshow(np.zeros((N, N)), cmap='gray', vmin=0, vmax=N * N - 1)\n",
    "        for (i, j), val in np.ndenumerate(state):\n",
    "            texts[i][j].set_text(str(val) if val != 0 else '')\n",
    "        frames.append([img] + [text for row in texts for text in row])\n",
    "\n",
    "    def get_frame(i):\n",
    "        return frames[i]\n",
    "\n",
    "    ani = animation.FuncAnimation(fig, get_frame, frames=len(frames), interval=2000, blit=True, repeat=True)\n",
    "    # plt.show(fig)\n",
    "    # To save the animation using Pillow as a gif\n",
    "    writer = animation.PillowWriter(fps=1, bitrate=1800)\n",
    "    ani.save('solution.gif', writer=writer)\n",
    "    plt.close(fig)\n",
    "\n",
    "def save_solution_video2(path: list[np.ndarray]) -> None:\n",
    "    frames: Sequence[Collection[Artist]] = []\n",
    "    N: int = path[0].shape[0]\n",
    "    fig, ax = plt.subplots(figsize=(N, N))\n",
    "    ax.axis('off')\n",
    "    texts = [[ax.text(j, i, '', va='center', ha='center', fontsize=16, color='white') for j in range(N)] for i in range(N)]\n",
    "    for state in path:\n",
    "        img: AxesImage = ax.imshow(np.zeros((N, N)), cmap='gray', vmin=0, vmax=N * N - 1)\n",
    "        for (i, j), val in np.ndenumerate(state):\n",
    "            texts[i][j].set_text(str(val) if val != 0 else '')\n",
    "        frames.append([img] + [text for row in texts for text in row])\n",
    "\n",
    "    print(f\"Total frames generated: {len(frames)}\")\n",
    "\n",
    "    def get_frame(i):\n",
    "        return frames[i]\n",
    "\n",
    "    ani = animation.FuncAnimation(fig, get_frame, frames=len(frames), interval=2000, blit=True, repeat=True)\n",
    "    plt.show(fig)  # Uncomment this line to display the animation\n",
    "    # To save the animation using Pillow as a gif\n",
    "    writer = animation.PillowWriter(fps=1, bitrate=1800)\n",
    "    ani.save('solution.gif', writer=writer)\n",
    "    plt.close(fig)"
   ]
  },
  {
   "cell_type": "markdown",
   "metadata": {},
   "source": [
    "# Running the Searches"
   ]
  },
  {
   "cell_type": "code",
   "execution_count": 68,
   "metadata": {},
   "outputs": [
    {
     "name": "stdout",
     "output_type": "stream",
     "text": [
      "BFS: Number of steps = 2\n",
      "Total frames generated: 3\n"
     ]
    },
    {
     "data": {
      "image/png": "[encoded data removed]",
      "text/plain": [
       "<Figure size 300x300 with 1 Axes>"
      ]
     },
     "metadata": {},
     "output_type": "display_data"
    }
   ],
   "source": [
    "initial_state = DEFAULT_INITIAL_STATE\n",
    "goal_state = DEFAULT_GOAL_STATE\n",
    "\n",
    "# Solve using Breadth First Search\n",
    "bfs_path = BFS(initial_state, goal_state).solve()\n",
    "if bfs_path:\n",
    "    save_solution_video2(bfs_path)\n",
    "\n",
    "# # Solve using Deep First Search\n",
    "# dfs_path = DFS(initial_state, goal_state).solve()\n",
    "# if dfs_path:\n",
    "#     visualize_solution(dfs_path)\n",
    "\n",
    "# # Solve using Iterative Deepening Search\n",
    "# ids_path = IDS(initial_state, goal_state).solve()\n",
    "# if ids_path:\n",
    "#     visualize_solution(ids_path)"
   ]
  }
 ],
 "metadata": {
  "kernelspec": {
   "display_name": ".venv",
   "language": "python",
   "name": "python3"
  },
  "language_info": {
   "codemirror_mode": {
    "name": "ipython",
    "version": 3
   },
   "file_extension": ".py",
   "mimetype": "text/x-python",
   "name": "python",
   "nbconvert_exporter": "python",
   "pygments_lexer": "ipython3",
   "version": "3.12.7"
  }
 },
 "nbformat": 4,
 "nbformat_minor": 2
}
