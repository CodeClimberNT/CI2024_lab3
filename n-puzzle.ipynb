{
 "cells": [
  {
   "cell_type": "markdown",
   "metadata": {},
   "source": [
    "# Lab 3 - N Puzzle"
   ]
  },
  {
   "cell_type": "markdown",
   "metadata": {
    "vscode": {
     "languageId": "plaintext"
    }
   },
   "source": [
    "Copyright **`(c)`** 2024 Giovanni Squillero `<giovanni.squillero@polito.it>`  \n",
    "[`https://github.com/squillero/computational-intelligence`](https://github.com/squillero/computational-intelligence)  \n",
    "Free under certain conditions — see the [`license`](https://github.com/squillero/computational-intelligence/blob/master/LICENSE.md) for details.  "
   ]
  },
  {
   "cell_type": "markdown",
   "metadata": {},
   "source": [
    "Description for N=15 : [`https://en.wikipedia.org/wiki/15_puzzle`](https://en.wikipedia.org/wiki/15_puzzle)"
   ]
  },
  {
   "cell_type": "markdown",
   "metadata": {},
   "source": [
    "## Importing library"
   ]
  },
  {
   "cell_type": "code",
   "execution_count": 31,
   "metadata": {},
   "outputs": [],
   "source": [
    "from collections import deque\n",
    "import os\n",
    "from typing import Deque, TypeVar\n",
    "\n",
    "import random\n",
    "\n",
    "from IPython.display import Image, Markdown, display\n",
    "\n",
    "\n",
    "import numpy as np\n",
    "from numpy.typing import NDArray\n",
    "\n",
    "import matplotlib.pyplot as plt\n",
    "import matplotlib.animation as animation\n",
    "\n",
    "\n",
    "import joblib\n",
    "from joblib import Parallel, delayed"
   ]
  },
  {
   "cell_type": "code",
   "execution_count": 32,
   "metadata": {},
   "outputs": [],
   "source": [
    "# Default initial and goal states for debugging -> It should take 2 moves to solve\n",
    "DEFAULT_INITIAL_STATE: NDArray = np.array(\n",
    "    [\n",
    "        [1, 2, 3],\n",
    "        [4, 5, 6],\n",
    "        [0, 7, 8],\n",
    "    ]\n",
    ")\n",
    "\n",
    "DEFAULT_GOAL_STATE: NDArray = np.array(\n",
    "    [\n",
    "        [1, 2, 3],\n",
    "        [4, 5, 6],\n",
    "        [7, 8, 0],\n",
    "    ]\n",
    ")"
   ]
  },
  {
   "cell_type": "markdown",
   "metadata": {},
   "source": [
    "## Utility"
   ]
  },
  {
   "cell_type": "markdown",
   "metadata": {},
   "source": [
    "### Look at the frontier and take a maximum of 4 neighbors \n",
    "\n",
    "> In the edge the number of neighbors is 3<br>\n",
    "> In the corner the number of neighbors is 2"
   ]
  },
  {
   "cell_type": "code",
   "execution_count": 33,
   "metadata": {},
   "outputs": [],
   "source": [
    "def get_neighbors(state: NDArray[np.int32]) -> list[NDArray[np.int32]]:\n",
    "    neighbors: list[NDArray[np.int32]] = []\n",
    "    x, y = np.argwhere(state == 0)[0]\n",
    "    moves: list[tuple[int, int]] = [(-1, 0), (1, 0), (0, -1), (0, 1)]  # Up, Down, Left, Right\n",
    "    for dx, dy in moves:\n",
    "        nx, ny = x + dx, y + dy\n",
    "        if 0 <= nx < state.shape[0] and 0 <= ny < state.shape[1]:\n",
    "            new_state: NDArray[np.int32] = state.copy()\n",
    "            new_state[x, y], new_state[nx, ny] = new_state[nx, ny], new_state[x, y]\n",
    "            neighbors.append(new_state)\n",
    "    return neighbors"
   ]
  },
  {
   "cell_type": "markdown",
   "metadata": {},
   "source": [
    "### Creating the goal state\n",
    "\n",
    "This function lets also decide where the empty cell is located using $(x, y)$ coordinate for the matrix\n",
    "\n",
    "Use case:\n",
    "> Empty cell in the top left instead of the bottom right <br>\n",
    "> Empty cell in the center \n",
    "\n",
    "The remaining cell will assume ordered integer value left to right, top to bottom in the range $[1, N^2)$\n",
    "\n",
    "I saw that some problem require the solution to be in a spiral, but I lazily thought that you could just create it yourself and use that as the `goal_state`"
   ]
  },
  {
   "cell_type": "code",
   "execution_count": 34,
   "metadata": {},
   "outputs": [],
   "source": [
    "def generate_goal_state(dim: int, null_position: tuple[int, int] | None = None) -> NDArray[np.int32]:\n",
    "    \"\"\"\n",
    "    Generates a goal state for\n",
    "    an NxN puzzle with the null\n",
    "    position at the specified position\n",
    "    \"\"\"\n",
    "    if null_position is None:\n",
    "        # If the null position is not specified, set it to the bottom right corner\n",
    "        null_position = (dim - 1, dim - 1)\n",
    "\n",
    "    goal_state = np.zeros((dim, dim), dtype=np.int32)\n",
    "    num = 1\n",
    "    for i in range(dim):\n",
    "        for j in range(dim):\n",
    "            if (i, j) == null_position:\n",
    "                continue\n",
    "            goal_state[i, j] = num\n",
    "            num += 1\n",
    "    return goal_state"
   ]
  },
  {
   "cell_type": "markdown",
   "metadata": {},
   "source": [
    "### Generate the Starting State\n",
    "\n",
    "Starting from the goal state, make a random number of **legal** moves to always have a valid problem to solve\n",
    "\n",
    "Keith Conrad proved that some configuration of the 15-Puzzle (and rubik's cube) cannot be solved: [`https://kconrad.math.uconn.edu/blurbs/grouptheory/15puzzle.pdf`](https://kconrad.math.uconn.edu/blurbs/grouptheory/15puzzle.pdf)\n",
    "\n",
    "So to avoid this situation, making only legal moves to create the starting position will always result in a solvable problem and thus limiting the possible error to the algorithm implementation"
   ]
  },
  {
   "cell_type": "code",
   "execution_count": 35,
   "metadata": {},
   "outputs": [],
   "source": [
    "def scramble_state(goal_state: NDArray[np.int32], moves: int = 10) -> NDArray[np.int32]:\n",
    "    \"\"\"\n",
    "    Creates a solvable initial state by applying a number of random moves to the goal state.\n",
    "    \"\"\"\n",
    "    state: NDArray[np.int32] = goal_state.copy()\n",
    "    previous_state: NDArray[np.int32] | None = None\n",
    "\n",
    "    for _ in range(moves):\n",
    "        # Get all possible moves\n",
    "        neighbors: list[NDArray[np.int32]] = get_neighbors(state)\n",
    "        # Avoid undoing the previous move\n",
    "        if previous_state is not None:\n",
    "            neighbors = [neighbor for neighbor in neighbors if not np.array_equal(neighbor, previous_state)]\n",
    "        # Randomly choose one of the next moves\n",
    "        next_state: NDArray[np.int32] = random.choice(neighbors)\n",
    "        previous_state = state\n",
    "        state: NDArray[np.int32] = next_state\n",
    "    return state"
   ]
  },
  {
   "cell_type": "markdown",
   "metadata": {},
   "source": [
    "### Display Numpy Array as Latex Matrix\n",
    "\n",
    "Small utility to display in the notebook a nice latex matrix associated with the numpy array (2D) used for the problem"
   ]
  },
  {
   "cell_type": "code",
   "execution_count": 36,
   "metadata": {},
   "outputs": [],
   "source": [
    "def display_array_as_latex(arr: np.ndarray, title: str | None = None) -> None:\n",
    "    \"\"\"Displays a NumPy array as a LaTeX matrix in Markdown.\"\"\"\n",
    "    # Start matrix environment\n",
    "    latex = r\"\\begin{bmatrix}\"\n",
    "\n",
    "    # Add rows\n",
    "    for i, row in enumerate(arr):\n",
    "        latex += r\" \\\\ \".join([\" & \".join(str(x) if x != 0 else r\"\\square\" for x in row)])\n",
    "        if i < len(arr) - 1:\n",
    "            latex += r\" \\\\ \"\n",
    "\n",
    "    # Close matrix environment\n",
    "    latex += r\"\\end{bmatrix}\"\n",
    "\n",
    "    # Add title if provided\n",
    "    if title:\n",
    "        latex = f\"### {title}\\n\\n${latex}$\"\n",
    "    else:\n",
    "        latex = f\"${latex}$\"\n",
    "\n",
    "    display(Markdown(latex))"
   ]
  },
  {
   "cell_type": "markdown",
   "metadata": {},
   "source": [
    "## Breadth-First Search\n",
    "\n",
    "To speedup computation and reduce memory impact there are two important element:\n",
    "\n",
    "* visited set: Is a set the use the bytes of the array that are hashable and reducing the lookup time to $O(1)$\n",
    "* parents: Avoid storing entire path during the search but just the direct parent for each solution. Then reconstruct the path given the solution from the parent"
   ]
  },
  {
   "cell_type": "code",
   "execution_count": 37,
   "metadata": {},
   "outputs": [],
   "source": [
    "class OLD_BFS:\n",
    "    def __init__(\n",
    "        self,\n",
    "        initial_state: NDArray[np.int32],\n",
    "        goal_state: NDArray[np.int32],\n",
    "        log_interval: int = 0,\n",
    "    ) -> None:\n",
    "\n",
    "        self.initial_state = initial_state\n",
    "        self.goal_state = goal_state\n",
    "        self.visited: set[bytes] = set()\n",
    "        self.parents: dict[bytes, bytes] = {}\n",
    "        self.queue: Deque[NDArray[np.int32]] = deque()\n",
    "        self.cost: int = 0\n",
    "        self.log_interval: int = log_interval\n",
    "        self.results: dict[str, list[NDArray[np.int32]] | int | bool] = {\"valid\": False}\n",
    "\n",
    "    def solve(self) -> dict[str, list[NDArray[np.int32]] | int | bool]:\n",
    "        self.queue.append(self.initial_state)\n",
    "        self.visited.add(self.initial_state.tobytes())\n",
    "        self.cost = 0\n",
    "\n",
    "        while self.queue:\n",
    "            current_state: NDArray[np.int32] = self.queue.popleft()\n",
    "            if np.array_equal(current_state, self.goal_state):\n",
    "                path: list[NDArray[np.int32]] = self.reconstruct_path(current_state)\n",
    "                self.results = {\"path\": path, \"length\": len(path), \"cost\": self.cost, \"valid\": True}\n",
    "                return self.results\n",
    "            self.cost += 1\n",
    "            for neighbor in get_neighbors(current_state):\n",
    "                neighbor_key = neighbor.tobytes()\n",
    "                if neighbor_key not in self.visited:\n",
    "                    self.visited.add(neighbor_key)\n",
    "                    self.parents[neighbor_key] = current_state.tobytes()\n",
    "                    self.queue.append(neighbor)\n",
    "\n",
    "            if self.log_interval and self.cost % self.log_interval == 0:\n",
    "                print(f\"Step: {self.cost}\")\n",
    "\n",
    "        print(\"BFS: No solution found\")\n",
    "        return self.results\n",
    "\n",
    "    def reconstruct_path(self, state: NDArray[np.int32]) -> list[NDArray[np.int32]]:\n",
    "        path = [state]\n",
    "        state_key = state.tobytes()\n",
    "        while state_key in self.parents:\n",
    "            parent_key = self.parents[state_key]\n",
    "            parent_state = np.frombuffer(parent_key, dtype=state.dtype).reshape(state.shape)\n",
    "            path.append(parent_state)\n",
    "            state_key = parent_key\n",
    "        path.reverse()\n",
    "        return path"
   ]
  },
  {
   "cell_type": "code",
   "execution_count": 38,
   "metadata": {},
   "outputs": [],
   "source": [
    "class BFS:\n",
    "    def __init__(\n",
    "        self,\n",
    "        initial_state: NDArray[np.int32],\n",
    "        goal_state: NDArray[np.int32],\n",
    "        log_interval: int = 0,\n",
    "    ) -> None:\n",
    "        self.initial_state: NDArray[np.int32] = initial_state\n",
    "        self.goal_state = goal_state\n",
    "\n",
    "        self.visited: set[bytes] = set()\n",
    "        self.frontier: Deque[NDArray[np.int32]] = deque()\n",
    "        self.parents: dict[bytes, bytes] = {}\n",
    "        self.queue: Deque[NDArray[np.int32]] = deque()\n",
    "        self.total_expanded_nodes: int = 0\n",
    "        self.steps: int = 0\n",
    "        self.log_interval: int = log_interval\n",
    "        self.results: dict[str, list[NDArray[np.int32]] | int | bool] = {\"valid\": False}\n",
    "\n",
    "    def solve(self, n_jobs: int = 1) -> dict[str, list[NDArray[np.int32]] | int | bool]:\n",
    "        '''Solves the puzzle using BFS and returns the results.\n",
    "        ## Parameters\n",
    "        n_jobs : int, optional (default=1) (range [-1, joblib.cpu_count()])\n",
    "            The number of jobs to run in parallel.\n",
    "            If -1, all CPUs are used.\n",
    "            If 1 is given, no parallel computing code is used at all,\n",
    "\n",
    "        ## Returns\n",
    "        results : dict\n",
    "            A dictionary containing the following keys:\n",
    "            cost : int\n",
    "                The total number of expanded nodes.\n",
    "            quality : int\n",
    "                The quality of the solution (i.e. the number of node use in the solution).\n",
    "            path : list[NDArray[np.int32]]\n",
    "                A list of states representing the solution.\n",
    "            valid : bool\n",
    "                Whether the solution is valid or not.\n",
    "        '''\n",
    "\n",
    "        if n_jobs < -1 and n_jobs != 0 and n_jobs > joblib.cpu_count():\n",
    "            raise ValueError(\n",
    "                \"n_jobs should be in the range [-1 (automatically use all your cores), joblib.cpu_count()] and != 0\"\n",
    "            )\n",
    "        n_jobs = joblib.cpu_count() if n_jobs == -1 else n_jobs\n",
    "\n",
    "        if n_jobs == 1:\n",
    "            return self.serial_solve()\n",
    "        return self.parallel_solve(n_jobs)\n",
    "\n",
    "    def serial_solve(self) -> dict[str, list[NDArray[np.int32]] | int | bool]:\n",
    "        self.queue.append(self.initial_state)\n",
    "        self.visited.add(self.initial_state.tobytes())\n",
    "\n",
    "        while self.queue:\n",
    "            current_state: NDArray[np.int32] = self.queue.popleft()\n",
    "            if np.array_equal(current_state, self.goal_state):\n",
    "                path: list[NDArray[np.int32]] = self.reconstruct_path(current_state)\n",
    "                self.results = {\"path\": path, \"length\": len(path), \"cost\": len(self.visited), \"valid\": True}\n",
    "                return self.results\n",
    "\n",
    "            for neighbor in get_neighbors(current_state):\n",
    "                neighbor_key = neighbor.tobytes()\n",
    "                if neighbor_key not in self.visited:\n",
    "                    self.visited.add(neighbor_key)\n",
    "                    self.parents[neighbor_key] = current_state.tobytes()\n",
    "                    self.queue.append(neighbor)\n",
    "\n",
    "            if self.log_interval and len(self.visited) % self.log_interval == 0:\n",
    "                print(f\"Step: {len(self.reconstruct_path(current_state))}\")\n",
    "\n",
    "        print(\"BFS: No solution found\")\n",
    "        return self.results\n",
    "\n",
    "    def parallel_solve(self, n_jobs: int) -> dict[str, list[NDArray[np.int32]] | int | bool]:\n",
    "        self.frontier.append(self.initial_state)\n",
    "        self.visited.add(self.state_to_key(self.initial_state))\n",
    "        self.steps = 0\n",
    "\n",
    "        while self.frontier:\n",
    "            current_level_size: int = len(self.frontier)\n",
    "            current_level_states: list[NDArray[np.int32]] = [self.frontier.popleft() for _ in range(current_level_size)]\n",
    "\n",
    "            self.total_expanded_nodes += current_level_size\n",
    "            # Expand nodes at the current level in parallel\n",
    "            results = Parallel(n_jobs=n_jobs)(delayed(self.expand_node)(state) for state in current_level_states)\n",
    "\n",
    "            # Collect successors and update visited and frontier\n",
    "            for successors in results:\n",
    "                if successors is None:\n",
    "                    continue\n",
    "                for neighbor_key, neighbor_state, parent_key in successors:\n",
    "                    if neighbor_key not in self.visited:\n",
    "                        self.visited.add(neighbor_key)\n",
    "                        self.parents[neighbor_key] = parent_key\n",
    "                        # Check if goal state is found\n",
    "                        if np.array_equal(neighbor_state, self.goal_state):\n",
    "                            print(\"Solution found!\")\n",
    "                            path: list[NDArray[np.int32]] = self.reconstruct_path(neighbor_state)\n",
    "                            self.results = {\n",
    "                                \"path\": path,\n",
    "                                \"length\": len(path),\n",
    "                                \"cost\": self.total_expanded_nodes,\n",
    "                                \"valid\": True,\n",
    "                            }\n",
    "                            return self.results\n",
    "\n",
    "                        self.frontier.append(neighbor_state)\n",
    "\n",
    "            if self.log_interval:\n",
    "                self.steps += 1\n",
    "                if self.steps % self.log_interval == 0:\n",
    "                    print(\n",
    "                        f\"Step: {self.steps}, Expanded nodes: {self.total_expanded_nodes}, Frontier size: {len(self.frontier)}\"\n",
    "                    )\n",
    "\n",
    "        print(\"No solution found\")\n",
    "        return self.results\n",
    "\n",
    "    def expand_node(self, state: NDArray[np.int32]) -> list[tuple[bytes, NDArray[np.int32], bytes]]:\n",
    "        state_key: bytes = self.state_to_key(state)\n",
    "        successors: list[tuple[bytes, np.ndarray, bytes]] = []\n",
    "        neighbors: list[NDArray[np.int32]] = get_neighbors(state)\n",
    "        for neighbor in neighbors:\n",
    "            neighbor_key: bytes = self.state_to_key(neighbor)\n",
    "            successors.append((neighbor_key, neighbor, state_key))\n",
    "        return successors\n",
    "\n",
    "    def reconstruct_path(self, state: NDArray[np.int32]) -> list[NDArray[np.int32]]:\n",
    "        path: list[NDArray[np.int32]] = [state]\n",
    "        state_key: bytes = self.state_to_key(state)\n",
    "        while state_key in self.parents:\n",
    "            parent_key: bytes = self.parents[state_key]\n",
    "            parent_state: NDArray[np.int32] = self.key_to_state(parent_key, state.shape, state.dtype)\n",
    "            path.append(parent_state)\n",
    "            state_key: bytes = parent_key\n",
    "        path.reverse()\n",
    "        return path\n",
    "\n",
    "    @staticmethod\n",
    "    def state_to_key(state: NDArray[np.int32]) -> bytes:\n",
    "        return state.tobytes()\n",
    "\n",
    "    T = TypeVar(\"T\", bound=np.generic)\n",
    "\n",
    "    @staticmethod\n",
    "    def key_to_state(key: bytes, shape: tuple[int, int], dtype: np.dtype[T]) -> NDArray[T]:\n",
    "        return np.frombuffer(key, dtype=dtype).reshape(shape)"
   ]
  },
  {
   "cell_type": "markdown",
   "metadata": {},
   "source": [
    "## Visual Utility\n",
    "\n",
    "I always liked visualizing the output of an algorithm, especially if it solves a problem I have a lot of trouble to understand the moves and predict the best moves\n",
    "\n",
    "P.S.\n",
    "\n",
    "This function requires only a path that is the list of matrices each one of them representing a state in order from start to finish.\n",
    "\n",
    "This function also allow to edit the name of the gif and possibly adding the name of an additional algorithm. Feel free to use it if you have the same structure to visualize your work!"
   ]
  },
  {
   "cell_type": "code",
   "execution_count": 39,
   "metadata": {},
   "outputs": [],
   "source": [
    "def save_solution_gif(\n",
    "    path: list[NDArray[np.int32]],\n",
    "    *,\n",
    "    gif_name: str = \"\",\n",
    "    algorithm_name: str | None = None,\n",
    "    fps: int = 2,\n",
    ") -> None:\n",
    "    \"\"\"\n",
    "    Saves an animation of the N-puzzle solution path as a GIF.\n",
    "\n",
    "    Args:\n",
    "        path (list of np.ndarray): List of puzzle states representing the solution path.\n",
    "    \"\"\"\n",
    "\n",
    "    N = path[0].shape[0]\n",
    "    # Add .gif extension if not present\n",
    "    if not gif_name.endswith(\".gif\"):\n",
    "        gif_name += \".gif\"\n",
    "\n",
    "    # Add to the name the dimension of the grid (e.g. solution.gif -> solution_3x3.gif)\n",
    "    gif_name = gif_name.replace(\".gif\", f\"{N}x{N}.gif\")\n",
    "\n",
    "    if algorithm_name is not None:\n",
    "        gif_name = f\"{algorithm_name}_{gif_name}\"\n",
    "\n",
    "    video_dir = \"gifs\"\n",
    "    os.makedirs(video_dir, exist_ok=True)\n",
    "    gif_output_path: str = os.path.join(video_dir, gif_name)\n",
    "    fig, ax = plt.subplots(figsize=(N, N))\n",
    "    ax.axis(\"off\")\n",
    "\n",
    "    # Initialize the image with the first state\n",
    "    img = ax.imshow(path[0], cmap=\"tab20\", vmin=0, vmax=N * N - 1)\n",
    "\n",
    "    # Initialize texts for each cell\n",
    "    texts = []\n",
    "    for (i, j), val in np.ndenumerate(path[0]):\n",
    "        text = ax.text(j, i, str(val) if val != 0 else \"\", va=\"center\", ha=\"center\", fontsize=16, color=\"white\")\n",
    "        texts.append(text)\n",
    "\n",
    "    # Update function for animation\n",
    "    def update(frame):\n",
    "        state = path[frame]\n",
    "        # Update the image data\n",
    "        img.set_data(state)\n",
    "        # Update text in each cell\n",
    "        for k, (_, val) in enumerate(np.ndenumerate(state)):\n",
    "            texts[k].set_text(str(val) if val != 0 else \"\")\n",
    "        ax.set_title(f\"Step {frame}\", fontsize=16)\n",
    "        return [img] + texts\n",
    "\n",
    "    # Create the animation\n",
    "    ani = animation.FuncAnimation(fig, update, frames=range(len(path)), blit=True, interval=500, repeat=False)\n",
    "\n",
    "    # Save the animation as a GIF\n",
    "    ani.save(gif_output_path, writer=\"pillow\", fps=fps)\n",
    "    plt.close(fig)\n",
    "    print(f\"Gif saved in `{gif_output_path}`\")\n",
    "    display(Image(filename=gif_output_path))"
   ]
  },
  {
   "cell_type": "markdown",
   "metadata": {},
   "source": [
    "# Running the Searches\n",
    "\n",
    "There are 2 ways to add complexity to the problem:\n",
    "1. Increasing the dimension of the matrix\n",
    "2. Increasing the number of random initial moves "
   ]
  },
  {
   "cell_type": "code",
   "execution_count": null,
   "metadata": {},
   "outputs": [
    {
     "data": {
      "text/markdown": [
       "### Initial State (4x4)\n",
       "\n",
       "$\\begin{bmatrix}1 & 2 & 4 & 7 \\\\ 5 & 6 & 3 & 8 \\\\ 9 & 14 & \\square & 11 \\\\ 13 & 15 & 10 & 12\\end{bmatrix}$"
      ],
      "text/plain": [
       "<IPython.core.display.Markdown object>"
      ]
     },
     "metadata": {},
     "output_type": "display_data"
    },
    {
     "data": {
      "text/markdown": [
       "### Solution Grid (moves=20)\n",
       "\n",
       "$\\begin{bmatrix}1 & 2 & 3 & 4 \\\\ 5 & 6 & 7 & 8 \\\\ 9 & 10 & 11 & 12 \\\\ 13 & 14 & 15 & \\square\\end{bmatrix}$"
      ],
      "text/plain": [
       "<IPython.core.display.Markdown object>"
      ]
     },
     "metadata": {},
     "output_type": "display_data"
    },
    {
     "data": {
      "text/markdown": [
       "---"
      ],
      "text/plain": [
       "<IPython.core.display.Markdown object>"
      ]
     },
     "metadata": {},
     "output_type": "display_data"
    },
    {
     "data": {
      "text/markdown": [
       "| Dimension               | Quality   | Cost   |\n",
       "|-------------------------|-----------|--------|\n",
       "| 4x4 | 13 | 34728 |"
      ],
      "text/plain": [
       "<IPython.core.display.Markdown object>"
      ]
     },
     "metadata": {},
     "output_type": "display_data"
    },
    {
     "name": "stdout",
     "output_type": "stream",
     "text": [
      "Gif saved in `gifs\\4x4.gif`\n"
     ]
    },
    {
     "data": {
      "image/gif": "[encoded data removed]",
      "text/plain": [
       "<IPython.core.display.Image object>"
      ]
     },
     "metadata": {},
     "output_type": "display_data"
    }
   ],
   "source": [
    "dimension = 4\n",
    "# The max number of moves required to solve the puzzle, so scramble the grid with this number of moves\n",
    "# to a fairly random starting point\n",
    "# https://puzzling.stackexchange.com/a/5477\n",
    "moves = dimension * dimension * (dimension - 1)\n",
    "moves = 20\n",
    "\n",
    "\n",
    "# Generate a NxN solution grid in order from 0 to dimension^2 - 1\n",
    "goal_state: NDArray[np.int32] = generate_goal_state(dimension)\n",
    "\n",
    "# Generate a NxN grid of random numbers from 0 to dimension^2 - 1\n",
    "initial_state: NDArray[np.int32] = scramble_state(goal_state, moves)\n",
    "\n",
    "display_array_as_latex(goal_state, title=f\"Solution Grid ({dimension}x{dimension})\")\n",
    "display_array_as_latex(initial_state, title=f\"Initial State ({moves=})\")\n",
    "\n",
    "display(Markdown(\"---\"))\n",
    "\n",
    "# Solve using Breadth First Search\n",
    "bfs_solver = BFS(initial_state, goal_state)\n",
    "\n",
    "result = bfs_solver.solve()\n",
    "\n",
    "if result.get(\"valid\"):\n",
    "    path, quality, cost = result.get(\"path\"), result.get(\"length\"), result.get(\"cost\")\n",
    "\n",
    "    display(\n",
    "        Markdown(\n",
    "            f\"| Dimension               | Quality   | Cost   |\\n|-------------------------|-----------|--------|\\n| {dimension}x{dimension} | {quality} | {cost} |\"\n",
    "        )\n",
    "    )\n",
    "    if isinstance(path, list):\n",
    "        save_solution_gif(path)"
   ]
  }
 ],
 "metadata": {
  "kernelspec": {
   "display_name": ".venv",
   "language": "python",
   "name": "python3"
  },
  "language_info": {
   "codemirror_mode": {
    "name": "ipython",
    "version": 3
   },
   "file_extension": ".py",
   "mimetype": "text/x-python",
   "name": "python",
   "nbconvert_exporter": "python",
   "pygments_lexer": "ipython3",
   "version": "3.12.7"
  }
 },
 "nbformat": 4,
 "nbformat_minor": 2
}
