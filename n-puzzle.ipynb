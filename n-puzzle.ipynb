{
 "cells": [
  {
   "cell_type": "markdown",
   "metadata": {},
   "source": [
    "# Lab 3 - N Puzzle"
   ]
  },
  {
   "cell_type": "markdown",
   "metadata": {
    "vscode": {
     "languageId": "plaintext"
    }
   },
   "source": [
    "Copyright **`(c)`** 2024 Giovanni Squillero `<giovanni.squillero@polito.it>`  \n",
    "[`https://github.com/squillero/computational-intelligence`](https://github.com/squillero/computational-intelligence)  \n",
    "Free under certain conditions — see the [`license`](https://github.com/squillero/computational-intelligence/blob/master/LICENSE.md) for details.  "
   ]
  },
  {
   "cell_type": "markdown",
   "metadata": {},
   "source": [
    "Description for N=15 : [`https://en.wikipedia.org/wiki/15_puzzle`](https://en.wikipedia.org/wiki/15_puzzle)"
   ]
  },
  {
   "cell_type": "markdown",
   "metadata": {},
   "source": [
    "## Importing library"
   ]
  },
  {
   "cell_type": "code",
   "execution_count": 105,
   "metadata": {},
   "outputs": [],
   "source": [
    "from collections import deque\n",
    "import os\n",
    "import sys\n",
    "\n",
    "import multiprocessing as mp\n",
    "\n",
    "from typing import Deque\n",
    "import random\n",
    "\n",
    "from IPython.display import Image, display\n",
    "\n",
    "\n",
    "import numpy as np\n",
    "from numpy.typing import NDArray\n",
    "\n",
    "import matplotlib.pyplot as plt\n",
    "import matplotlib.animation as animation\n",
    "\n",
    "from matplotlib.artist import Artist\n",
    "from matplotlib.image import AxesImage"
   ]
  },
  {
   "cell_type": "code",
   "execution_count": null,
   "metadata": {},
   "outputs": [],
   "source": [
    "# Default initial and goal states for debugging -> It should take 2 moves to solve\n",
    "DEFAULT_INITIAL_STATE: NDArray = np.array(\n",
    "    [\n",
    "        [1, 2, 3],\n",
    "        [4, 5, 6],\n",
    "        [0, 7, 8],\n",
    "    ]\n",
    ")\n",
    "\n",
    "DEFAULT_GOAL_STATE: NDArray = np.array(\n",
    "    [\n",
    "        [1, 2, 3],\n",
    "        [4, 5, 6],\n",
    "        [7, 8, 0],\n",
    "    ]\n",
    ")"
   ]
  },
  {
   "cell_type": "markdown",
   "metadata": {},
   "source": [
    "## Utility"
   ]
  },
  {
   "cell_type": "markdown",
   "metadata": {},
   "source": [
    "### Look at the frontier and take a maximum of 4 neighbors \n",
    "\n",
    "> In the edge the number of neighbors is 3<br>\n",
    "> In the corner the number of neighbors is 2"
   ]
  },
  {
   "cell_type": "code",
   "execution_count": null,
   "metadata": {},
   "outputs": [],
   "source": [
    "def get_neighbors(state: NDArray[np.int32]) -> list[NDArray[np.int32]]:\n",
    "    neighbors: list[NDArray[np.int32]] = []\n",
    "    x, y = np.argwhere(state == 0)[0]\n",
    "    moves: list[tuple[int, int]] = [(-1, 0), (1, 0), (0, -1), (0, 1)]  # Up, Down, Left, Right\n",
    "    for dx, dy in moves:\n",
    "        nx, ny = x + dx, y + dy\n",
    "        if 0 <= nx < state.shape[0] and 0 <= ny < state.shape[1]:\n",
    "            new_state: NDArray[np.int32] = state.copy()\n",
    "            new_state[x, y], new_state[nx, ny] = new_state[nx, ny], new_state[x, y]\n",
    "            neighbors.append(new_state)\n",
    "    return neighbors"
   ]
  },
  {
   "cell_type": "markdown",
   "metadata": {},
   "source": [
    "### Creating the goal state\n",
    "\n",
    "This function lets also decide where the empty cell is located using $(x, y)$ coordinate for the matrix\n",
    "\n",
    "Use case:\n",
    "> Empty cell in the top left instead of the bottom right <br>\n",
    "> Empty cell in the center \n",
    "\n",
    "The remaining cell will assume ordered integer value left to right, top to bottom in the range $[1, N^2)$\n",
    "\n",
    "I saw that some problem require the solution to be in a spiral, but I lazily thought that you could just create it yourself and use that as the `goal_state`"
   ]
  },
  {
   "cell_type": "code",
   "execution_count": null,
   "metadata": {},
   "outputs": [],
   "source": [
    "def generate_goal_state(dim: int, null_position: tuple[int, int] | None = None) -> NDArray[np.int32]:\n",
    "    \"\"\"\n",
    "    Generates a goal state for\n",
    "    an NxN puzzle with the null\n",
    "    position at the specified position\n",
    "    \"\"\"\n",
    "    if null_position is None:\n",
    "        # If the null position is not specified, set it to the bottom right corner\n",
    "        null_position = (dim - 1, dim - 1)\n",
    "\n",
    "    goal_state = np.zeros((dim, dim), dtype=np.int32)\n",
    "    num = 1\n",
    "    for i in range(dim):\n",
    "        for j in range(dim):\n",
    "            if (i, j) == null_position:\n",
    "                continue\n",
    "            goal_state[i, j] = num\n",
    "            num += 1\n",
    "    return goal_state"
   ]
  },
  {
   "cell_type": "markdown",
   "metadata": {},
   "source": [
    "### Generate the Starting State\n",
    "\n",
    "Starting from the goal state, make a random number of **legal** moves to always have a valid problem to solve\n",
    "\n",
    "Keith Conrad proved that some configuration of the 15-Puzzle (and rubik's cube) cannot be solved: [`https://kconrad.math.uconn.edu/blurbs/grouptheory/15puzzle.pdf`](https://kconrad.math.uconn.edu/blurbs/grouptheory/15puzzle.pdf)\n",
    "\n",
    "So to avoid this situation, making only legal moves to create the starting position will always result in a solvable problem and thus limiting the possible error to the algorithm implementation"
   ]
  },
  {
   "cell_type": "code",
   "execution_count": 115,
   "metadata": {},
   "outputs": [],
   "source": [
    "def scramble_state(goal_state: NDArray[np.int32], moves: int = 10) -> NDArray[np.int32]:\n",
    "    \"\"\"\n",
    "    Creates a solvable initial state by applying a number of random moves to the goal state.\n",
    "    \"\"\"\n",
    "    state: NDArray[np.int32] = goal_state.copy()\n",
    "    previous_state: NDArray[np.int32] | None = None\n",
    "\n",
    "    for _ in range(moves):\n",
    "        # Get all possible moves\n",
    "        neighbors: list[NDArray[np.int32]] = get_neighbors(state)\n",
    "        # Avoid undoing the previous move\n",
    "        if previous_state is not None:\n",
    "            neighbors = [neighbor for neighbor in neighbors if not np.array_equal(neighbor, previous_state)]\n",
    "        # Randomly choose one of the next moves\n",
    "        next_state: NDArray[np.int32] = random.choice(neighbors)\n",
    "        previous_state = state\n",
    "        state: NDArray[np.int32] = next_state\n",
    "    return state"
   ]
  },
  {
   "cell_type": "markdown",
   "metadata": {},
   "source": [
    "## Breadth-First Search\n",
    "\n",
    "To speedup computation and reduce memory impact there are two important element:\n",
    "\n",
    "* visited set: Is a set the use the bytes of the array that are hashable and reducing the lookup time to $O(1)$\n",
    "* parents: Avoid storing entire path during the search but just the direct parent for each solution. Then reconstruct the path given the solution from the parent"
   ]
  },
  {
   "cell_type": "code",
   "execution_count": null,
   "metadata": {},
   "outputs": [],
   "source": [
    "class BFS:\n",
    "    def __init__(\n",
    "        self,\n",
    "        initial_state: NDArray[np.int32] = DEFAULT_INITIAL_STATE,\n",
    "        goal_state: NDArray[np.int32] = DEFAULT_GOAL_STATE,\n",
    "    ) -> None:\n",
    "        self.initial_state: NDArray[np.int32] = initial_state\n",
    "        self.goal_state: NDArray[np.int32] = goal_state\n",
    "        self.visited: set[bytes] = set()\n",
    "        self.parents: dict[bytes, NDArray[np.int32]] = {}\n",
    "        self.queue: Deque[tuple[NDArray[np.int32], list]] = deque()\n",
    "\n",
    "    def solve(self) -> list | None:\n",
    "        # Initialize the visited set and the queue\n",
    "        self.queue.append((self.initial_state, []))\n",
    "        self.visited.add(self.initial_state.tobytes())\n",
    "\n",
    "        while self.queue:\n",
    "            current_state, path = self.queue.popleft()\n",
    "            if np.array_equal(current_state, self.goal_state):\n",
    "                print(f\"BFS: Solved in {len(path)} number of steps\")\n",
    "                return path + [current_state]\n",
    "            for neighbor in get_neighbors(current_state):\n",
    "                # If the neighbor has not been visited before\n",
    "                neighbor_key = neighbor.tobytes()\n",
    "                if neighbor_key not in self.visited:\n",
    "                    # if not np.any([np.array_equal(neighbor, history) for history in self.visited]):\n",
    "                    self.visited.add(neighbor_key)\n",
    "                    self.parents[neighbor_key] = current_state\n",
    "                    self.queue.append((neighbor, path + [current_state]))\n",
    "        print(\"BFS: No solution found\")\n",
    "        return None\n",
    "\n",
    "    def reconstruct_path(self, state: NDArray) -> list[NDArray]:\n",
    "        path = [state]\n",
    "        state_key = state.tobytes()\n",
    "        while state_key in self.parents:\n",
    "            parent_key = self.parents[state_key]\n",
    "            parent_state = np.frombuffer(parent_key, dtype=state.dtype).reshape(state.shape)\n",
    "            path.append(parent_state)\n",
    "            state_key = parent_key\n",
    "        path.reverse()\n",
    "        return path"
   ]
  },
  {
   "cell_type": "markdown",
   "metadata": {},
   "source": [
    "## Visual Utility\n",
    "\n",
    "I always liked visualizing the output of an algorithm, especially if it solves a problem I have a lot of trouble to understand the moves and predict the best moves\n",
    "\n",
    "P.S.\n",
    "\n",
    "This function requires only a path that is the list of matrices each one of them representing a state in order from start to finish.\n",
    "\n",
    "This function also allow to edit the name of the gif and possibily adding the name of an additional algorithm. Feel free to use it if you have the same structure to visualize your work!"
   ]
  },
  {
   "cell_type": "code",
   "execution_count": null,
   "metadata": {},
   "outputs": [],
   "source": [
    "def save_solution_gif(path: list[NDArray[np.int32]], gif_name: str = \"\", algorithm_name: str | None = None) -> None:\n",
    "    \"\"\"\n",
    "    Saves an animation of the N-puzzle solution path as a GIF.\n",
    "\n",
    "    Args:\n",
    "        path (list of np.ndarray): List of puzzle states representing the solution path.\n",
    "    \"\"\"\n",
    "\n",
    "    N = path[0].shape[0]\n",
    "    # Add .gif extension if not present\n",
    "    if not gif_name.endswith(\".gif\"):\n",
    "        gif_name += \".gif\"\n",
    "\n",
    "    # Add to the name the dimension of the grid (e.g. solution.gif -> solution_3x3.gif)\n",
    "    gif_name = gif_name.replace(\".gif\", f\"_{N}x{N}.gif\")\n",
    "\n",
    "    if algorithm_name is not None:\n",
    "        gif_name = f\"{algorithm_name}_{gif_name}\"\n",
    "\n",
    "    video_dir = \"gifs\"\n",
    "    os.makedirs(video_dir, exist_ok=True)\n",
    "    gif_output_path: str = os.path.join(video_dir, gif_name)\n",
    "    fig, ax = plt.subplots(figsize=(N, N))\n",
    "    ax.axis(\"off\")\n",
    "\n",
    "    # Initialize the image with the first state\n",
    "    img = ax.imshow(path[0], cmap=\"tab20\", vmin=0, vmax=N * N - 1)\n",
    "\n",
    "    # Initialize texts for each cell\n",
    "    texts = []\n",
    "    for (i, j), val in np.ndenumerate(path[0]):\n",
    "        text = ax.text(j, i, str(val) if val != 0 else \"\", va=\"center\", ha=\"center\", fontsize=16, color=\"white\")\n",
    "        texts.append(text)\n",
    "\n",
    "    # Update function for animation\n",
    "    def update(frame):\n",
    "        state = path[frame]\n",
    "        # Update the image data\n",
    "        img.set_data(state)\n",
    "        # Update text in each cell\n",
    "        for k, (_, val) in enumerate(np.ndenumerate(state)):\n",
    "            texts[k].set_text(str(val) if val != 0 else \"\")\n",
    "        ax.set_title(f\"Step {frame}\", fontsize=16)\n",
    "        return [img] + texts\n",
    "\n",
    "    # Create the animation\n",
    "    ani = animation.FuncAnimation(fig, update, frames=range(len(path)), blit=True, interval=500, repeat=False)\n",
    "\n",
    "    # Save the animation as a GIF\n",
    "    ani.save(gif_output_path, writer=\"pillow\", fps=2)\n",
    "    plt.close(fig)\n",
    "    print(f\"Gif saved in `{gif_output_path}`\")\n",
    "    display(Image(filename=gif_output_path))"
   ]
  },
  {
   "cell_type": "markdown",
   "metadata": {},
   "source": [
    "# Running the Searches\n",
    "\n",
    "There are 2 ways to add complexity to the problem:\n",
    "1. Increasing the dimension of the matrix\n",
    "2. Increasing the number of random legal moves "
   ]
  },
  {
   "cell_type": "code",
   "execution_count": null,
   "metadata": {},
   "outputs": [
    {
     "name": "stdout",
     "output_type": "stream",
     "text": [
      "Starting Grid:\n",
      "[[ 6  5  2  3]\n",
      " [ 9  1 11  4]\n",
      " [ 7 15  0  8]\n",
      " [13 10 14 12]]\n",
      "\n",
      "Solution Grid:\n",
      "[[ 1  2  3  4]\n",
      " [ 5  6  7  8]\n",
      " [ 9 10 11 12]\n",
      " [13 14 15  0]]\n",
      "-------------------\n",
      "BFS: Number of steps = 20\n",
      "Gif saved in `video\\_4x4.gif`\n"
     ]
    },
    {
     "data": {
      "image/gif": "[encoded data removed]",
      "text/plain": [
       "<IPython.core.display.Image object>"
      ]
     },
     "metadata": {},
     "output_type": "display_data"
    }
   ],
   "source": [
    "dim = 4\n",
    "moves = 20\n",
    "\n",
    "# Generate a NxN solution grid in order from 0 to 15\n",
    "goal_state: NDArray[np.int32] = generate_goal_state(dim)\n",
    "\n",
    "# Generate a NxN grid of random numbers from 0 to 15\n",
    "initial_state: NDArray[np.int32] = scramble_state(goal_state, moves)\n",
    "\n",
    "print(\"Starting Grid:\")\n",
    "print(initial_state)\n",
    "print()\n",
    "print(\"Solution Grid:\")\n",
    "print(goal_state)\n",
    "print(\"-------------------\")\n",
    "\n",
    "# Solve using Breadth First Search\n",
    "bfs_path = BFS(initial_state, goal_state).solve()\n",
    "if bfs_path:\n",
    "    save_solution_gif(bfs_path)"
   ]
  }
 ],
 "metadata": {
  "kernelspec": {
   "display_name": ".venv",
   "language": "python",
   "name": "python3"
  },
  "language_info": {
   "codemirror_mode": {
    "name": "ipython",
    "version": 3
   },
   "file_extension": ".py",
   "mimetype": "text/x-python",
   "name": "python",
   "nbconvert_exporter": "python",
   "pygments_lexer": "ipython3",
   "version": "3.12.7"
  }
 },
 "nbformat": 4,
 "nbformat_minor": 2
}
